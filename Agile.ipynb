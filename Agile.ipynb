{
  "nbformat": 4,
  "nbformat_minor": 0,
  "metadata": {
    "colab": {
      "provenance": []
    },
    "kernelspec": {
      "name": "python3",
      "display_name": "Python 3"
    },
    "language_info": {
      "name": "python"
    }
  },
  "cells": [
    {
      "cell_type": "code",
      "execution_count": 95,
      "metadata": {
        "id": "qfKT19YxFiPi"
      },
      "outputs": [],
      "source": [
        "import pandas as pd"
      ]
    },
    {
      "cell_type": "code",
      "source": [
        "input1 = pd.read_excel('Input_1.xlsx')"
      ],
      "metadata": {
        "id": "SjHYhU-4M9Hw"
      },
      "execution_count": 96,
      "outputs": []
    },
    {
      "cell_type": "code",
      "source": [
        "input2 = pd.read_excel('Input_2.xlsx')"
      ],
      "metadata": {
        "id": "wFwxHF5UXPPf"
      },
      "execution_count": 97,
      "outputs": []
    },
    {
      "cell_type": "code",
      "source": [
        "input1.drop(['S No'],axis=1,inplace=True)\n",
        "input2.drop(['S No'],axis=1,inplace=True)"
      ],
      "metadata": {
        "id": "2cKq3KgYXR9x"
      },
      "execution_count": 98,
      "outputs": []
    },
    {
      "cell_type": "code",
      "source": [
        "d=input2[['name','uid','total_statements','total_reasons']]\n",
        "d.rename(columns={'name':'Name','uid':'UID','total_statements':'No. of Statements','total_reasons':'No. of Reasons'},inplace=True)\n",
        "d=pd.DataFrame(d.sort_values(by=['No. of Statements','No. of Reasons','Name'],ascending=False))\n",
        "d['Rank']=d[['No. of Statements','No. of Reasons','Name']].apply(tuple,axis=1).rank(method='dense',ascending=False).astype(int)\n",
        "d=d[d.columns[[4,0,1,2,3]]]\n",
        "d.to_excel('output2.xlsx')"
      ],
      "metadata": {
        "colab": {
          "base_uri": "https://localhost:8080/"
        },
        "id": "bFXL-KMmXm1k",
        "outputId": "407ddeb3-e02e-4b88-b3db-487ae81ae115"
      },
      "execution_count": 99,
      "outputs": [
        {
          "output_type": "stream",
          "name": "stderr",
          "text": [
            "<ipython-input-99-c821f156bac3>:2: SettingWithCopyWarning: \n",
            "A value is trying to be set on a copy of a slice from a DataFrame\n",
            "\n",
            "See the caveats in the documentation: https://pandas.pydata.org/pandas-docs/stable/user_guide/indexing.html#returning-a-view-versus-a-copy\n",
            "  d.rename(columns={'name':'Name','uid':'UID','total_statements':'No. of Statements','total_reasons':'No. of Reasons'},inplace=True)\n"
          ]
        }
      ]
    },
    {
      "cell_type": "code",
      "source": [
        "input3= pd.merge(input1,input2,left_on='User ID',right_on='uid',how='left')\n",
        "input3.drop(['uid','name'],axis=1,inplace=True)"
      ],
      "metadata": {
        "id": "uJex23e_gwtw"
      },
      "execution_count": 100,
      "outputs": []
    },
    {
      "cell_type": "code",
      "source": [
        "ip4=pd.DataFrame(input3.groupby(['Team Name'])['total_statements','total_reasons'].mean())\n",
        "ip4"
      ],
      "metadata": {
        "colab": {
          "base_uri": "https://localhost:8080/",
          "height": 386
        },
        "id": "7V69EphHhXLo",
        "outputId": "f7063761-a8af-4d99-8134-49a57d54d850"
      },
      "execution_count": 101,
      "outputs": [
        {
          "output_type": "stream",
          "name": "stderr",
          "text": [
            "<ipython-input-101-7722f93a6dc6>:1: FutureWarning: Indexing with multiple keys (implicitly converted to a tuple of keys) will be deprecated, use a list instead.\n",
            "  ip4=pd.DataFrame(input3.groupby(['Team Name'])['total_statements','total_reasons'].mean())\n"
          ]
        },
        {
          "output_type": "execute_result",
          "data": {
            "text/plain": [
              "                     total_statements  total_reasons\n",
              "Team Name                                           \n",
              "BrandTech Lab                4.500000       5.500000\n",
              "Growpital                    5.000000       5.666667\n",
              "Human Capital Lab            2.000000       4.500000\n",
              "Kringle                      4.500000       4.500000\n",
              "Mentor                       7.333333       7.666667\n",
              "Student Unicorn Lab          7.333333       6.333333\n",
              "Tech Lab                     9.000000      10.000000\n",
              "Winning Culture Lab         12.666667      16.000000"
            ],
            "text/html": [
              "\n",
              "  <div id=\"df-304e0b35-9ce5-4c1b-a2d8-5995984ace9e\">\n",
              "    <div class=\"colab-df-container\">\n",
              "      <div>\n",
              "<style scoped>\n",
              "    .dataframe tbody tr th:only-of-type {\n",
              "        vertical-align: middle;\n",
              "    }\n",
              "\n",
              "    .dataframe tbody tr th {\n",
              "        vertical-align: top;\n",
              "    }\n",
              "\n",
              "    .dataframe thead th {\n",
              "        text-align: right;\n",
              "    }\n",
              "</style>\n",
              "<table border=\"1\" class=\"dataframe\">\n",
              "  <thead>\n",
              "    <tr style=\"text-align: right;\">\n",
              "      <th></th>\n",
              "      <th>total_statements</th>\n",
              "      <th>total_reasons</th>\n",
              "    </tr>\n",
              "    <tr>\n",
              "      <th>Team Name</th>\n",
              "      <th></th>\n",
              "      <th></th>\n",
              "    </tr>\n",
              "  </thead>\n",
              "  <tbody>\n",
              "    <tr>\n",
              "      <th>BrandTech Lab</th>\n",
              "      <td>4.500000</td>\n",
              "      <td>5.500000</td>\n",
              "    </tr>\n",
              "    <tr>\n",
              "      <th>Growpital</th>\n",
              "      <td>5.000000</td>\n",
              "      <td>5.666667</td>\n",
              "    </tr>\n",
              "    <tr>\n",
              "      <th>Human Capital Lab</th>\n",
              "      <td>2.000000</td>\n",
              "      <td>4.500000</td>\n",
              "    </tr>\n",
              "    <tr>\n",
              "      <th>Kringle</th>\n",
              "      <td>4.500000</td>\n",
              "      <td>4.500000</td>\n",
              "    </tr>\n",
              "    <tr>\n",
              "      <th>Mentor</th>\n",
              "      <td>7.333333</td>\n",
              "      <td>7.666667</td>\n",
              "    </tr>\n",
              "    <tr>\n",
              "      <th>Student Unicorn Lab</th>\n",
              "      <td>7.333333</td>\n",
              "      <td>6.333333</td>\n",
              "    </tr>\n",
              "    <tr>\n",
              "      <th>Tech Lab</th>\n",
              "      <td>9.000000</td>\n",
              "      <td>10.000000</td>\n",
              "    </tr>\n",
              "    <tr>\n",
              "      <th>Winning Culture Lab</th>\n",
              "      <td>12.666667</td>\n",
              "      <td>16.000000</td>\n",
              "    </tr>\n",
              "  </tbody>\n",
              "</table>\n",
              "</div>\n",
              "      <button class=\"colab-df-convert\" onclick=\"convertToInteractive('df-304e0b35-9ce5-4c1b-a2d8-5995984ace9e')\"\n",
              "              title=\"Convert this dataframe to an interactive table.\"\n",
              "              style=\"display:none;\">\n",
              "        \n",
              "  <svg xmlns=\"http://www.w3.org/2000/svg\" height=\"24px\"viewBox=\"0 0 24 24\"\n",
              "       width=\"24px\">\n",
              "    <path d=\"M0 0h24v24H0V0z\" fill=\"none\"/>\n",
              "    <path d=\"M18.56 5.44l.94 2.06.94-2.06 2.06-.94-2.06-.94-.94-2.06-.94 2.06-2.06.94zm-11 1L8.5 8.5l.94-2.06 2.06-.94-2.06-.94L8.5 2.5l-.94 2.06-2.06.94zm10 10l.94 2.06.94-2.06 2.06-.94-2.06-.94-.94-2.06-.94 2.06-2.06.94z\"/><path d=\"M17.41 7.96l-1.37-1.37c-.4-.4-.92-.59-1.43-.59-.52 0-1.04.2-1.43.59L10.3 9.45l-7.72 7.72c-.78.78-.78 2.05 0 2.83L4 21.41c.39.39.9.59 1.41.59.51 0 1.02-.2 1.41-.59l7.78-7.78 2.81-2.81c.8-.78.8-2.07 0-2.86zM5.41 20L4 18.59l7.72-7.72 1.47 1.35L5.41 20z\"/>\n",
              "  </svg>\n",
              "      </button>\n",
              "      \n",
              "  <style>\n",
              "    .colab-df-container {\n",
              "      display:flex;\n",
              "      flex-wrap:wrap;\n",
              "      gap: 12px;\n",
              "    }\n",
              "\n",
              "    .colab-df-convert {\n",
              "      background-color: #E8F0FE;\n",
              "      border: none;\n",
              "      border-radius: 50%;\n",
              "      cursor: pointer;\n",
              "      display: none;\n",
              "      fill: #1967D2;\n",
              "      height: 32px;\n",
              "      padding: 0 0 0 0;\n",
              "      width: 32px;\n",
              "    }\n",
              "\n",
              "    .colab-df-convert:hover {\n",
              "      background-color: #E2EBFA;\n",
              "      box-shadow: 0px 1px 2px rgba(60, 64, 67, 0.3), 0px 1px 3px 1px rgba(60, 64, 67, 0.15);\n",
              "      fill: #174EA6;\n",
              "    }\n",
              "\n",
              "    [theme=dark] .colab-df-convert {\n",
              "      background-color: #3B4455;\n",
              "      fill: #D2E3FC;\n",
              "    }\n",
              "\n",
              "    [theme=dark] .colab-df-convert:hover {\n",
              "      background-color: #434B5C;\n",
              "      box-shadow: 0px 1px 3px 1px rgba(0, 0, 0, 0.15);\n",
              "      filter: drop-shadow(0px 1px 2px rgba(0, 0, 0, 0.3));\n",
              "      fill: #FFFFFF;\n",
              "    }\n",
              "  </style>\n",
              "\n",
              "      <script>\n",
              "        const buttonEl =\n",
              "          document.querySelector('#df-304e0b35-9ce5-4c1b-a2d8-5995984ace9e button.colab-df-convert');\n",
              "        buttonEl.style.display =\n",
              "          google.colab.kernel.accessAllowed ? 'block' : 'none';\n",
              "\n",
              "        async function convertToInteractive(key) {\n",
              "          const element = document.querySelector('#df-304e0b35-9ce5-4c1b-a2d8-5995984ace9e');\n",
              "          const dataTable =\n",
              "            await google.colab.kernel.invokeFunction('convertToInteractive',\n",
              "                                                     [key], {});\n",
              "          if (!dataTable) return;\n",
              "\n",
              "          const docLinkHtml = 'Like what you see? Visit the ' +\n",
              "            '<a target=\"_blank\" href=https://colab.research.google.com/notebooks/data_table.ipynb>data table notebook</a>'\n",
              "            + ' to learn more about interactive tables.';\n",
              "          element.innerHTML = '';\n",
              "          dataTable['output_type'] = 'display_data';\n",
              "          await google.colab.output.renderOutput(dataTable, element);\n",
              "          const docLink = document.createElement('div');\n",
              "          docLink.innerHTML = docLinkHtml;\n",
              "          element.appendChild(docLink);\n",
              "        }\n",
              "      </script>\n",
              "    </div>\n",
              "  </div>\n",
              "  "
            ]
          },
          "metadata": {},
          "execution_count": 101
        }
      ]
    },
    {
      "cell_type": "code",
      "source": [
        "ip4['Rank']= ip4[['total_statements','total_reasons']].apply(tuple,axis=1).rank(method='dense',ascending=False).astype(int)\n",
        "nms=['Rank','Team Name','total_statements','total_reasons']\n",
        "ip4.reindex(columns=nms)\n",
        "ip4=ip4[ip4.columns[[2,0,1]]]\n",
        "ip4.rename(columns = {'total_statements':'Average Statements','total_reasons':'Average Reasons'}, inplace = True)\n",
        "ip6=pd.DataFrame()\n",
        "ip5=pd.DataFrame(input3.groupby(['Team Name']))\n",
        "ip6['Thinking Team LeaderBoard']=ip5[0]\n",
        "ip4.index=[0,1,2,3,4,5,6,7]\n",
        "ip4=pd.merge(ip6, ip4, left_index=True, right_index=True)\n",
        "ip4=ip4[ip4.columns[[1,0,2,3]]]\n",
        "ip4=pd.DataFrame(ip4)\n",
        "ip4=pd.DataFrame(ip4.sort_values(by=['Rank']))\n",
        "ip4['Average Reasons']=ip4['Average Reasons'].round(2).astype(float)\n",
        "ip4['Average Statements']=ip4['Average Statements'].round(2).astype(float)\n",
        "ip4.to_excel('output1.xlsx')"
      ],
      "metadata": {
        "colab": {
          "base_uri": "https://localhost:8080/"
        },
        "id": "A7RemrOYheaG",
        "outputId": "2ce5b63f-e4b0-4aea-d81c-703222d8579c"
      },
      "execution_count": 102,
      "outputs": [
        {
          "output_type": "stream",
          "name": "stderr",
          "text": [
            "<ipython-input-102-47005b1b1142>:7: FutureWarning: In a future version of pandas, a length 1 tuple will be returned when iterating over a groupby with a grouper equal to a list of length 1. Don't supply a list with a single grouper to avoid this warning.\n",
            "  ip5=pd.DataFrame(input3.groupby(['Team Name']))\n"
          ]
        }
      ]
    },
    {
      "cell_type": "code",
      "source": [],
      "metadata": {
        "id": "ULvWWIAijDbn"
      },
      "execution_count": null,
      "outputs": []
    }
  ]
}